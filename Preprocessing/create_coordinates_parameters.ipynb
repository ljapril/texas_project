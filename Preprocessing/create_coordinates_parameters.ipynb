{
 "cells": [
  {
   "cell_type": "code",
   "execution_count": 5,
   "metadata": {},
   "outputs": [
    {
     "name": "stdout",
     "output_type": "stream",
     "text": [
      "{'center': (-95.02401153846152, 16.420723076923075), 'xlim_degree': [-97.91122307692305, -91.48152307692304], 'ylim_degree': [14.745846153846148, 18.28214615384615], 'degree2km': 106.65948312475912}\n"
     ]
    }
   ],
   "source": [
    "import csv\n",
    "from math import cos, radians\n",
    "\n",
    "def get_coordinates_bounds(points):\n",
    "    \"\"\"\n",
    "    Given a list of points with latitude and longitude,\n",
    "    return the center and boundary coordinates in a dictionary.\n",
    "    \"\"\"\n",
    "    # Calculate the center latitude and longitude\n",
    "    lat_sum = sum(point['latitude'] for point in points)\n",
    "    lon_sum = sum(point['longitude'] for point in points)\n",
    "    center_lat = lat_sum / len(points)\n",
    "    center_lon = lon_sum / len(points)\n",
    "\n",
    "    # Calculate the x-axis and y-axis limits\n",
    "    max_lat = max(point['latitude'] for point in points)\n",
    "    min_lat = min(point['latitude'] for point in points)\n",
    "    max_lon = max(point['longitude'] for point in points)\n",
    "    min_lon = min(point['longitude'] for point in points)\n",
    "    x_lim = [center_lon - (max_lon - center_lon), center_lon + (center_lon - min_lon)]\n",
    "    y_lim = [center_lat - (max_lat - center_lat), center_lat + (center_lat - min_lat)]\n",
    "\n",
    "    # Calculate the degree to kilometer conversion factor\n",
    "    degree2km = 111.19492474777779 * cos(radians(center_lat))\n",
    "\n",
    "    # Return the center and boundary coordinates in a dictionary\n",
    "    return {\n",
    "        'center': (center_lon, center_lat),\n",
    "        'xlim_degree': x_lim,\n",
    "        'ylim_degree': y_lim,\n",
    "        'degree2km': degree2km,\n",
    "    }\n",
    "\n",
    "# Open the CSV file for reading\n",
    "with open('/Users/marcgarcia/Research/PhaseNet/working_dataset/mexico_stations1.csv', 'r') as csv_file:\n",
    "    # Read the CSV file into a list of dictionaries\n",
    "    csv_reader = csv.DictReader(csv_file)\n",
    "    points = [{'latitude': float(row['latitude']), 'longitude': float(row['longitude'])} for row in csv_reader]\n",
    "\n",
    "# Get the center and boundary coordinates\n",
    "coordinates = get_coordinates_bounds(points)\n",
    "\n",
    "# Print the resulting dictionary\n",
    "print(coordinates)\n",
    "\n"
   ]
  },
  {
   "cell_type": "code",
   "execution_count": null,
   "metadata": {},
   "outputs": [],
   "source": []
  }
 ],
 "metadata": {
  "kernelspec": {
   "display_name": "base",
   "language": "python",
   "name": "python3"
  },
  "language_info": {
   "codemirror_mode": {
    "name": "ipython",
    "version": 3
   },
   "file_extension": ".py",
   "mimetype": "text/x-python",
   "name": "python",
   "nbconvert_exporter": "python",
   "pygments_lexer": "ipython3",
   "version": "3.9.12"
  },
  "orig_nbformat": 4,
  "vscode": {
   "interpreter": {
    "hash": "e618e59ba5ce47ad879dff0cd3bf71dd85a3426ed742a6d70e7df16d39f7bc49"
   }
  }
 },
 "nbformat": 4,
 "nbformat_minor": 2
}
